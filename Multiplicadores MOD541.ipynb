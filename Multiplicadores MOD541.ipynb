{
 "cells": [
  {
   "cell_type": "markdown",
   "id": "2488da2f",
   "metadata": {},
   "source": [
    "# Programa que calcula la lista de numeros b tales que b es un multiplicador de periodo maximo para un MCG de modulo 541"
   ]
  },
  {
   "cell_type": "code",
   "execution_count": 20,
   "id": "d66e7fc5",
   "metadata": {},
   "outputs": [
    {
     "data": {
      "text/plain": [
       "270"
      ]
     },
     "execution_count": 20,
     "metadata": {},
     "output_type": "execute_result"
    }
   ],
   "source": [
    "2**8+2**3+2**2+2**1"
   ]
  },
  {
   "cell_type": "markdown",
   "id": "b571d054",
   "metadata": {},
   "source": [
    "## Esta primera función toma un entero b entre 2 y 540 y determina si alguno de los residuos de b^108, b^180 o b^270 modulo 541 son iguales a 1, en caso afirmativo devuelve False y en caso contrario devulve True"
   ]
  },
  {
   "cell_type": "code",
   "execution_count": 21,
   "id": "84f646cd",
   "metadata": {},
   "outputs": [],
   "source": [
    "def residuo(b):\n",
    "    rb2=(b*b)%541#residuo de b^2 modulo 2023\n",
    "    rb4=(rb2*rb2)%541#residuo de b^(2^2) modulo 2023\n",
    "    rb8=(rb4*rb4)%541#residuo de b^(2^3) modulo 2023\n",
    "    rb16=(rb8*rb8)%541#residuo de b^(2^4) modulo 2023\n",
    "    rb32=(rb16*rb16)%541#residuo de b^(2^5) modulo 2023\n",
    "    rb64=(rb32*rb32)%541#residuo de b^(2^6) modulo 2023\n",
    "    rb128=(rb64*rb64)%541#residuo de b^(2^7) modulo 2023\n",
    "    rb256=(rb128*rb128)%541#residuo de b^(2^8) modulo 2023\n",
    "    rb108=(rb64*rb32*rb8*rb4)%541#residuo de b^(2^6+2^5+2^3+2^2) modulo 2023\n",
    "    if rb108==1:\n",
    "        return False\n",
    "    rb180=(rb128*rb32*rb16*rb4)%541#residuo de b^(2^7+2^5+2^4+2^2) modulo 2023\n",
    "    if rb180==1:\n",
    "        return False\n",
    "    rb270=(rb256*rb8*rb4*rb2)%541#residuo de b^(2^1+2^2+2^3+2^8) modulo 2023\n",
    "    if rb270==1:\n",
    "        return False\n",
    "    else:\n",
    "        return True    "
   ]
  },
  {
   "cell_type": "markdown",
   "id": "09821d7b",
   "metadata": {},
   "source": [
    "## Ahora buscamos y almacenamos todos los enteros mayores a 1 y menores a 541 que son primos relativos a 2023 y que NO devuelven 1 en la funcion residuo"
   ]
  },
  {
   "cell_type": "code",
   "execution_count": 24,
   "id": "61083e0a",
   "metadata": {},
   "outputs": [],
   "source": [
    "from math import gcd"
   ]
  },
  {
   "cell_type": "code",
   "execution_count": 22,
   "id": "19598fab",
   "metadata": {},
   "outputs": [],
   "source": [
    "def encontrar():\n",
    "    b=[];\n",
    "    k=2\n",
    "    while k<541:\n",
    "        if gcd(k,541)==1:\n",
    "            if residuo(k):\n",
    "                b.append(k)\n",
    "        k=k+1\n",
    "    return b"
   ]
  },
  {
   "cell_type": "code",
   "execution_count": 25,
   "id": "d58dc78b",
   "metadata": {},
   "outputs": [],
   "source": [
    "multipliers=encontrar()"
   ]
  },
  {
   "cell_type": "code",
   "execution_count": 26,
   "id": "0e511fb9",
   "metadata": {},
   "outputs": [
    {
     "data": {
      "text/plain": [
       "[2,\n",
       " 10,\n",
       " 13,\n",
       " 14,\n",
       " 18,\n",
       " 24,\n",
       " 30,\n",
       " 37,\n",
       " 40,\n",
       " 51,\n",
       " 54,\n",
       " 55,\n",
       " 59,\n",
       " 62,\n",
       " 65,\n",
       " 67,\n",
       " 68,\n",
       " 72,\n",
       " 73,\n",
       " 77,\n",
       " 83,\n",
       " 86,\n",
       " 87,\n",
       " 91,\n",
       " 94,\n",
       " 96,\n",
       " 98,\n",
       " 99,\n",
       " 107,\n",
       " 113,\n",
       " 114,\n",
       " 116,\n",
       " 117,\n",
       " 126,\n",
       " 127,\n",
       " 128,\n",
       " 131,\n",
       " 132,\n",
       " 138,\n",
       " 150,\n",
       " 152,\n",
       " 153,\n",
       " 156,\n",
       " 158,\n",
       " 163,\n",
       " 176,\n",
       " 181,\n",
       " 183,\n",
       " 184,\n",
       " 195,\n",
       " 197,\n",
       " 199,\n",
       " 206,\n",
       " 208,\n",
       " 210,\n",
       " 213,\n",
       " 218,\n",
       " 220,\n",
       " 223,\n",
       " 224,\n",
       " 244,\n",
       " 248,\n",
       " 250,\n",
       " 257,\n",
       " 258,\n",
       " 259,\n",
       " 260,\n",
       " 261,\n",
       " 263,\n",
       " 267,\n",
       " 269,\n",
       " 270,\n",
       " 271,\n",
       " 272,\n",
       " 274,\n",
       " 278,\n",
       " 280,\n",
       " 281,\n",
       " 282,\n",
       " 283,\n",
       " 284,\n",
       " 291,\n",
       " 293,\n",
       " 297,\n",
       " 317,\n",
       " 318,\n",
       " 321,\n",
       " 323,\n",
       " 328,\n",
       " 331,\n",
       " 333,\n",
       " 335,\n",
       " 342,\n",
       " 344,\n",
       " 346,\n",
       " 357,\n",
       " 358,\n",
       " 360,\n",
       " 365,\n",
       " 378,\n",
       " 383,\n",
       " 385,\n",
       " 388,\n",
       " 389,\n",
       " 391,\n",
       " 403,\n",
       " 409,\n",
       " 410,\n",
       " 413,\n",
       " 414,\n",
       " 415,\n",
       " 424,\n",
       " 425,\n",
       " 427,\n",
       " 428,\n",
       " 434,\n",
       " 442,\n",
       " 443,\n",
       " 445,\n",
       " 447,\n",
       " 450,\n",
       " 454,\n",
       " 455,\n",
       " 458,\n",
       " 464,\n",
       " 468,\n",
       " 469,\n",
       " 473,\n",
       " 474,\n",
       " 476,\n",
       " 479,\n",
       " 482,\n",
       " 486,\n",
       " 487,\n",
       " 490,\n",
       " 501,\n",
       " 504,\n",
       " 511,\n",
       " 517,\n",
       " 523,\n",
       " 527,\n",
       " 528,\n",
       " 531,\n",
       " 539]"
      ]
     },
     "execution_count": 26,
     "metadata": {},
     "output_type": "execute_result"
    }
   ],
   "source": [
    "multipliers"
   ]
  },
  {
   "cell_type": "code",
   "execution_count": 27,
   "id": "7c483ca5",
   "metadata": {},
   "outputs": [
    {
     "data": {
      "text/plain": [
       "144"
      ]
     },
     "execution_count": 27,
     "metadata": {},
     "output_type": "execute_result"
    }
   ],
   "source": [
    "len(multipliers)"
   ]
  },
  {
   "cell_type": "code",
   "execution_count": null,
   "id": "5fb22b2d",
   "metadata": {},
   "outputs": [],
   "source": []
  }
 ],
 "metadata": {
  "kernelspec": {
   "display_name": "Python 3 (ipykernel)",
   "language": "python",
   "name": "python3"
  },
  "language_info": {
   "codemirror_mode": {
    "name": "ipython",
    "version": 3
   },
   "file_extension": ".py",
   "mimetype": "text/x-python",
   "name": "python",
   "nbconvert_exporter": "python",
   "pygments_lexer": "ipython3",
   "version": "3.9.16"
  }
 },
 "nbformat": 4,
 "nbformat_minor": 5
}
