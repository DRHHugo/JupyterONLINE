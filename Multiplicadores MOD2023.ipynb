{
 "cells": [
  {
   "cell_type": "markdown",
   "id": "2488da2f",
   "metadata": {},
   "source": [
    "# Programa que calcula la lista de numeros b tales que b es un multiplicador de periodo maximo para un MCG de modulo 2023"
   ]
  },
  {
   "cell_type": "markdown",
   "id": "08802e1d",
   "metadata": {},
   "source": [
    "## Esta primera función toma un entero b entre 1 y 2023 y determina si alguno de los residuos de b^96, b^544 o b^816 modulo 2023 son iguales a 1, en caso afirmativo devuelve False y en caso contrario devulve True"
   ]
  },
  {
   "cell_type": "code",
   "execution_count": 4,
   "id": "e997af77",
   "metadata": {},
   "outputs": [],
   "source": [
    "def test(b):\n",
    "    rb2=(b*b)%2023#residuo de b^2 modulo 2023\n",
    "    rb4=(rb2*rb2)%2023#residuo de b^(2^2) modulo 2023\n",
    "    rb8=(rb4*rb4)%2023#residuo de b^(2^3) modulo 2023\n",
    "    rb16=(rb8*rb8)%2023#residuo de b^(2^4) modulo 2023\n",
    "    rb32=(rb16*rb16)%2023#residuo de b^(2^5) modulo 2023\n",
    "    rb64=(rb32*rb32)%2023#residuo de b^(2^6) modulo 2023\n",
    "    rb128=(rb64*rb64)%2023#residuo de b^(2^7) modulo 2023\n",
    "    rb256=(rb128*rb128)%2023#residuo de b^(2^8) modulo 2023\n",
    "    rb512=(rb256*rb256)%2023#residuo de b^(2^9) modulo 2023\n",
    "    rb96=(rb64*rb32)%2023#residuo de b^(2^5+2^6) modulo 2023\n",
    "    if rb96==1:\n",
    "        return False\n",
    "    rb544=(rb512*rb32)%2023#residuo de b^(2^9) modulo 2023\n",
    "    if rb544==1:\n",
    "        return False\n",
    "    rb48=(rb16*rb32)%2023#residuo de b^(2^4+2^5) modulo 2023\n",
    "    rb304=(rb48*rb256)%2023#residuo de b^(2^4+2^5+2^8) modulo 2023\n",
    "    rb816=(rb304*rb512)%2023#residuo de b^(2^4+2^5+2^8) modulo 2023\n",
    "    if rb816==1:\n",
    "        return False\n",
    "    else:\n",
    "        return True"
   ]
  },
  {
   "cell_type": "code",
   "execution_count": 5,
   "id": "fcca637b",
   "metadata": {},
   "outputs": [
    {
     "data": {
      "text/plain": [
       "False"
      ]
     },
     "execution_count": 5,
     "metadata": {},
     "output_type": "execute_result"
    }
   ],
   "source": [
    "test(2)"
   ]
  },
  {
   "cell_type": "markdown",
   "id": "33e58c28",
   "metadata": {},
   "source": [
    "## Ahora buscamos y almacenamos todos los enteros mayores a 1 y menores a 541 que son primos relativos a 2023 y que NO devuelven 1 en la funcion residuo"
   ]
  },
  {
   "cell_type": "code",
   "execution_count": 7,
   "id": "2a1e2dba",
   "metadata": {},
   "outputs": [],
   "source": [
    "from math import gcd"
   ]
  },
  {
   "cell_type": "code",
   "execution_count": 6,
   "id": "dde9aa5f",
   "metadata": {},
   "outputs": [],
   "source": [
    "def encontrar():\n",
    "    b=[];\n",
    "    k=2\n",
    "    while k<2023:\n",
    "        if gcd(k,2023)==1:\n",
    "            if test(k):\n",
    "                b.append(k)\n",
    "        k=k+1\n",
    "    return b"
   ]
  },
  {
   "cell_type": "code",
   "execution_count": 8,
   "id": "35729d61",
   "metadata": {},
   "outputs": [],
   "source": [
    "multipliers=encontrar()"
   ]
  },
  {
   "cell_type": "code",
   "execution_count": 9,
   "id": "91b768c0",
   "metadata": {},
   "outputs": [
    {
     "data": {
      "text/plain": [
       "[]"
      ]
     },
     "execution_count": 9,
     "metadata": {},
     "output_type": "execute_result"
    }
   ],
   "source": [
    "multipliers"
   ]
  },
  {
   "cell_type": "code",
   "execution_count": null,
   "id": "95b45e49",
   "metadata": {},
   "outputs": [],
   "source": []
  }
 ],
 "metadata": {
  "kernelspec": {
   "display_name": "Python 3 (ipykernel)",
   "language": "python",
   "name": "python3"
  },
  "language_info": {
   "codemirror_mode": {
    "name": "ipython",
    "version": 3
   },
   "file_extension": ".py",
   "mimetype": "text/x-python",
   "name": "python",
   "nbconvert_exporter": "python",
   "pygments_lexer": "ipython3",
   "version": "3.9.16"
  }
 },
 "nbformat": 4,
 "nbformat_minor": 5
}
