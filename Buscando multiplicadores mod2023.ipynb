{
 "cells": [
  {
   "cell_type": "markdown",
   "id": "f281b53e",
   "metadata": {},
   "source": [
    "# Programa que calcula la lista de numeros b tal que b^816 NO es congruente con 1 modulo 2023"
   ]
  },
  {
   "cell_type": "markdown",
   "id": "f0314399",
   "metadata": {},
   "source": [
    "## Esta primera función toma un entero b entre 1 y 2023 y determina el residuo de b^816 modulo 2023"
   ]
  },
  {
   "cell_type": "code",
   "execution_count": 1,
   "id": "8a7237ea",
   "metadata": {},
   "outputs": [],
   "source": [
    "def residuo(b):\n",
    "    rb2=(b*b)%2023#residuo de b^2 modulo 2023\n",
    "    rb4=(rb2*rb2)%2023#residuo de b^(2^2) modulo 2023\n",
    "    rb8=(rb4*rb4)%2023#residuo de b^(2^3) modulo 2023\n",
    "    rb16=(rb8*rb8)%2023#residuo de b^(2^4) modulo 2023\n",
    "    rb32=(rb16*rb16)%2023#residuo de b^(2^5) modulo 2023\n",
    "    rb64=(rb32*rb32)%2023#residuo de b^(2^6) modulo 2023\n",
    "    rb128=(rb64*rb64)%2023#residuo de b^(2^7) modulo 2023\n",
    "    rb256=(rb128*rb128)%2023#residuo de b^(2^8) modulo 2023\n",
    "    rb512=(rb256*rb256)%2023#residuo de b^(2^9) modulo 2023\n",
    "    rb48=(rb16*rb32)%2023#residuo de b^(2^4+2^5) modulo 2023\n",
    "    rb304=(rb48*rb256)%2023#residuo de b^(2^4+2^5+2^8) modulo 2023\n",
    "    rb816=(rb304*rb512)%2023#residuo de b^(2^4+2^5+2^8) modulo 2023\n",
    "    return rb816"
   ]
  },
  {
   "cell_type": "code",
   "execution_count": 2,
   "id": "bfc78395",
   "metadata": {},
   "outputs": [
    {
     "data": {
      "text/plain": [
       "1"
      ]
     },
     "execution_count": 2,
     "metadata": {},
     "output_type": "execute_result"
    }
   ],
   "source": [
    "residuo(507)"
   ]
  },
  {
   "cell_type": "markdown",
   "id": "c615e587",
   "metadata": {},
   "source": [
    "## Ahora buscamos y almacenamos todos los enteros mayores a 1 y menores a 2023 que son primos relativos con 2023 y que NO devuelven 1 en la funcion residuo"
   ]
  },
  {
   "cell_type": "code",
   "execution_count": 3,
   "id": "72f97e02",
   "metadata": {},
   "outputs": [],
   "source": [
    "from math import gcd"
   ]
  },
  {
   "cell_type": "code",
   "execution_count": 4,
   "id": "ea363568",
   "metadata": {},
   "outputs": [],
   "source": [
    "def encontrar():\n",
    "    b=[];\n",
    "    k=2\n",
    "    while k<2023:\n",
    "        if gcd(k,2023)==1:\n",
    "            if residuo(k)!=1:\n",
    "                b.append(k)\n",
    "        k=k+1\n",
    "    return b"
   ]
  },
  {
   "cell_type": "code",
   "execution_count": 5,
   "id": "f36f0539",
   "metadata": {},
   "outputs": [],
   "source": [
    "multipliers=encontrar()"
   ]
  },
  {
   "cell_type": "code",
   "execution_count": 6,
   "id": "4c016bc4",
   "metadata": {},
   "outputs": [
    {
     "data": {
      "text/plain": [
       "[]"
      ]
     },
     "execution_count": 6,
     "metadata": {},
     "output_type": "execute_result"
    }
   ],
   "source": [
    "multipliers"
   ]
  },
  {
   "cell_type": "code",
   "execution_count": null,
   "id": "fe1052a7",
   "metadata": {},
   "outputs": [],
   "source": []
  }
 ],
 "metadata": {
  "kernelspec": {
   "display_name": "Python 3 (ipykernel)",
   "language": "python",
   "name": "python3"
  },
  "language_info": {
   "codemirror_mode": {
    "name": "ipython",
    "version": 3
   },
   "file_extension": ".py",
   "mimetype": "text/x-python",
   "name": "python",
   "nbconvert_exporter": "python",
   "pygments_lexer": "ipython3",
   "version": "3.9.16"
  }
 },
 "nbformat": 4,
 "nbformat_minor": 5
}
